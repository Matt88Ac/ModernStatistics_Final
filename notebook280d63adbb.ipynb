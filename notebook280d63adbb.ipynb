{
 "cells": [
  {
   "cell_type": "markdown",
   "metadata": {},
   "source": [
    "# <center>Final Project; Algorithms in Modern Statistics </center>\n",
    "### Submitted by: \n",
    "**<center>Full Name: Matan Mizrachi</center>**\n",
    "\n",
    "The following project is fully based on the data, that could be found and explained [here](https://www.kaggle.com/aibuzz/audio-classification-predict-the-emotions).\n",
    "\n",
    "FFmpeg installation guide in this [link](https://www.wikihow.com/Install-FFmpeg-on-Windows)."
   ]
  },
  {
   "cell_type": "code",
   "execution_count": 3,
   "metadata": {
    "_cell_guid": "b1076dfc-b9ad-4769-8c92-a6c4dae69d19",
    "_uuid": "8f2839f25d086af736a60e9eeb907d3b93b6e0e5",
    "execution": {
     "iopub.execute_input": "2021-08-15T10:06:52.303973Z",
     "iopub.status.busy": "2021-08-15T10:06:52.303589Z",
     "iopub.status.idle": "2021-08-15T10:06:54.888882Z",
     "shell.execute_reply": "2021-08-15T10:06:54.887500Z",
     "shell.execute_reply.started": "2021-08-15T10:06:52.303937Z"
    }
   },
   "outputs": [],
   "source": [
    "import numpy as np\n",
    "import pandas as pd\n",
    "from matplotlib import pyplot as plt\n",
    "import seaborn as sns\n",
    "import os\n",
    "import librosa\n",
    "from librosa import display\n",
    "from scipy import signal, stats\n",
    "\n",
    "sns.set_style('darkgrid')\n",
    "\n",
    "import warnings\n",
    "warnings.filterwarnings('ignore')\n",
    "\n",
    "from tqdm.notebook import tqdm\n",
    "tqdm.pandas()"
   ]
  },
  {
   "cell_type": "markdown",
   "metadata": {},
   "source": [
    "Useful functions:"
   ]
  },
  {
   "cell_type": "code",
   "execution_count": 4,
   "metadata": {
    "execution": {
     "iopub.execute_input": "2021-08-15T10:08:00.418963Z",
     "iopub.status.busy": "2021-08-15T10:08:00.418569Z",
     "iopub.status.idle": "2021-08-15T10:08:00.425310Z",
     "shell.execute_reply": "2021-08-15T10:08:00.424250Z",
     "shell.execute_reply.started": "2021-08-15T10:08:00.418927Z"
    }
   },
   "outputs": [],
   "source": [
    "def load_file(f: str, train=True, max_len=2e+5):\n",
    "    path = 'AudioFiles'\n",
    "    # fp = '../input/audio-classification-predict-the-emotions/dataset'\n",
    "    fp = 'dataset'\n",
    "    max_len = int(max_len)\n",
    "    if train:\n",
    "        path = '/Train' + path\n",
    "    else:\n",
    "        path = '/Test' + path\n",
    "        \n",
    "    path = fp + path*3 + '/' + f\n",
    "    if f.split('.')[1].lower() == 'wav': \n",
    "        audio = librosa.load(path)[0]\n",
    "    \n",
    "    f = os.getcwd() + '/' + f.split('.')[0] + '.wav'\n",
    "    f = f.replace(f[2], '/')\n",
    "    call = f'ffmpeg -i {path} {f}'\n",
    "    os.system(call)\n",
    "    audio = librosa.load(f)[0]\n",
    "    \n",
    "    os.remove(f)\n",
    "    \n",
    "    n = len(audio)\n",
    "    if n < max_len:\n",
    "        audio = np.append(audio, np.zeros(max_len - n))\n",
    "    \n",
    "    elif n > max_len:\n",
    "        audio = audio[:max_len]\n",
    "        \n",
    "    return audio\n",
    "\n",
    "def load_all_data(from_existing=True, _df=None):\n",
    "    if from_existing:\n",
    "        if os.path.isfile('dataset/new_df.npy'):\n",
    "            return np.load('dataset/new_df.npy')\n",
    "        \n",
    "    if type(_df) != pd.Series:\n",
    "        return None\n",
    "    _df = np.array(_df.apply(load_file).to_list()).astype('float16')\n",
    "    np.save('dataset/new_df.npy', _df)\n",
    "    return _df\n",
    "    \n",
    "    "
   ]
  },
  {
   "cell_type": "code",
   "execution_count": 5,
   "metadata": {
    "execution": {
     "iopub.execute_input": "2021-08-15T10:06:54.899180Z",
     "iopub.status.busy": "2021-08-15T10:06:54.898792Z",
     "iopub.status.idle": "2021-08-15T10:06:54.957854Z",
     "shell.execute_reply": "2021-08-15T10:06:54.956788Z",
     "shell.execute_reply.started": "2021-08-15T10:06:54.899121Z"
    }
   },
   "outputs": [
    {
     "data": {
      "text/html": [
       "<div>\n",
       "<style scoped>\n",
       "    .dataframe tbody tr th:only-of-type {\n",
       "        vertical-align: middle;\n",
       "    }\n",
       "\n",
       "    .dataframe tbody tr th {\n",
       "        vertical-align: top;\n",
       "    }\n",
       "\n",
       "    .dataframe thead th {\n",
       "        text-align: right;\n",
       "    }\n",
       "</style>\n",
       "<table border=\"1\" class=\"dataframe\">\n",
       "  <thead>\n",
       "    <tr style=\"text-align: right;\">\n",
       "      <th></th>\n",
       "      <th>filename</th>\n",
       "      <th>emotion</th>\n",
       "    </tr>\n",
       "  </thead>\n",
       "  <tbody>\n",
       "    <tr>\n",
       "      <th>0</th>\n",
       "      <td>18777.mp3</td>\n",
       "      <td>neutral</td>\n",
       "    </tr>\n",
       "    <tr>\n",
       "      <th>1</th>\n",
       "      <td>24041.mp3</td>\n",
       "      <td>neutral</td>\n",
       "    </tr>\n",
       "    <tr>\n",
       "      <th>2</th>\n",
       "      <td>1621.mp3</td>\n",
       "      <td>joy</td>\n",
       "    </tr>\n",
       "    <tr>\n",
       "      <th>3</th>\n",
       "      <td>28883.mp3</td>\n",
       "      <td>neutral</td>\n",
       "    </tr>\n",
       "    <tr>\n",
       "      <th>4</th>\n",
       "      <td>14918.mp3</td>\n",
       "      <td>neutral</td>\n",
       "    </tr>\n",
       "  </tbody>\n",
       "</table>\n",
       "</div>"
      ],
      "text/plain": [
       "    filename  emotion\n",
       "0  18777.mp3  neutral\n",
       "1  24041.mp3  neutral\n",
       "2   1621.mp3      joy\n",
       "3  28883.mp3  neutral\n",
       "4  14918.mp3  neutral"
      ]
     },
     "execution_count": 5,
     "metadata": {},
     "output_type": "execute_result"
    }
   ],
   "source": [
    "# train_data = pd.read_csv('../input/audio-classification-predict-the-emotions/dataset/train.csv')\n",
    "train_data = pd.read_csv('dataset/train.csv')\n",
    "sr = 22050\n",
    "train_data.head(5)"
   ]
  },
  {
   "cell_type": "code",
   "execution_count": 6,
   "metadata": {},
   "outputs": [
    {
     "name": "stdout",
     "output_type": "stream",
     "text": [
      "<class 'pandas.core.frame.DataFrame'>\n",
      "RangeIndex: 5816 entries, 0 to 5815\n",
      "Data columns (total 2 columns):\n",
      " #   Column    Non-Null Count  Dtype \n",
      "---  ------    --------------  ----- \n",
      " 0   filename  5816 non-null   object\n",
      " 1   emotion   5816 non-null   object\n",
      "dtypes: object(2)\n",
      "memory usage: 91.0+ KB\n"
     ]
    }
   ],
   "source": [
    "train_data.info()"
   ]
  },
  {
   "cell_type": "code",
   "execution_count": 7,
   "metadata": {
    "execution": {
     "iopub.execute_input": "2021-08-15T10:07:02.846022Z",
     "iopub.status.busy": "2021-08-15T10:07:02.845580Z",
     "iopub.status.idle": "2021-08-15T10:07:04.376255Z",
     "shell.execute_reply": "2021-08-15T10:07:04.374978Z",
     "shell.execute_reply.started": "2021-08-15T10:07:02.845985Z"
    }
   },
   "outputs": [
    {
     "name": "stdout",
     "output_type": "stream",
     "text": [
      "Wall time: 2.58 s\n"
     ]
    }
   ],
   "source": [
    "%%time\n",
    "y = train_data['emotion']\n",
    "X = load_all_data(_df=train_data['filename'])"
   ]
  },
  {
   "cell_type": "markdown",
   "metadata": {
    "execution": {
     "iopub.execute_input": "2021-08-15T10:08:02.256517Z",
     "iopub.status.busy": "2021-08-15T10:08:02.255606Z",
     "iopub.status.idle": "2021-08-15T10:08:05.053374Z",
     "shell.execute_reply": "2021-08-15T10:08:05.051392Z",
     "shell.execute_reply.started": "2021-08-15T10:08:02.256455Z"
    }
   },
   "source": [
    "## Part 1; EDA"
   ]
  },
  {
   "cell_type": "code",
   "execution_count": 8,
   "metadata": {},
   "outputs": [
    {
     "data": {
      "image/png": "[encoded data removed]",
      "text/plain": [
       "<Figure size 432x288 with 1 Axes>"
      ]
     },
     "metadata": {},
     "output_type": "display_data"
    }
   ],
   "source": [
    "sns.countplot(y)\n",
    "plt.show()"
   ]
  },
  {
   "cell_type": "code",
   "execution_count": null,
   "metadata": {},
   "outputs": [],
   "source": [
    "signal.stft(X, fs=1/sr)[2]"
   ]
  },
  {
   "cell_type": "code",
   "execution_count": null,
   "metadata": {},
   "outputs": [],
   "source": []
  },
  {
   "cell_type": "code",
   "execution_count": null,
   "metadata": {},
   "outputs": [],
   "source": []
  },
  {
   "cell_type": "code",
   "execution_count": null,
   "metadata": {},
   "outputs": [],
   "source": []
  }
 ],
 "metadata": {
  "kernelspec": {
   "display_name": "Python 3",
   "language": "python",
   "name": "python3"
  },
  "language_info": {
   "codemirror_mode": {
    "name": "ipython",
    "version": 3
   },
   "file_extension": ".py",
   "mimetype": "text/x-python",
   "name": "python",
   "nbconvert_exporter": "python",
   "pygments_lexer": "ipython3",
   "version": "3.8.5"
  }
 },
 "nbformat": 4,
 "nbformat_minor": 4
}
